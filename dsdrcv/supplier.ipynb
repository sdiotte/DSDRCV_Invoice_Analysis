{
 "cells": [
  {
   "cell_type": "code",
   "execution_count": 22,
   "metadata": {},
   "outputs": [
    {
     "name": "stdout",
     "output_type": "stream",
     "text": [
      "Connection established to:  ('PostgreSQL 15.3, compiled by Visual C++ build 1914, 64-bit',)\n"
     ]
    }
   ],
   "source": [
    "import pandas as pd\n",
    "%run DSDRCV_Connection.ipynb"
   ]
  },
  {
   "cell_type": "code",
   "execution_count": 23,
   "metadata": {},
   "outputs": [
    {
     "name": "stdout",
     "output_type": "stream",
     "text": [
      "   supplier_number duns_number duns_suffix comm_id              name   dsd  \\\n",
      "0          1771394   461914971        None    None       Fresh Finds  None   \n",
      "1          1771394   461914971        None    None       Fresh Finds  None   \n",
      "2          2583056   173555942      1703      None   Gourmet Goodies  None   \n",
      "3          2583056   173555942      1703      None   Gourmet Goodies  None   \n",
      "4          3081290   750221378      8811      None  Flavorful Feasts  None   \n",
      "\n",
      "  facility account_number  division_number    custom_2  \n",
      "0     None     A1771394                 41        None  \n",
      "1     None     A1771394                 34        None  \n",
      "2     None     Z2583056                 41  8002641297  \n",
      "3     None     Z2583056                 34  8002641297  \n",
      "4     None     U3081290                 41        None  \n"
     ]
    },
    {
     "name": "stderr",
     "output_type": "stream",
     "text": [
      "C:\\Users\\sd18186\\AppData\\Local\\Temp\\ipykernel_26692\\1752164420.py:2: UserWarning: pandas only supports SQLAlchemy connectable (engine/connection) or database string URI or sqlite3 DBAPI2 connection. Other DBAPI2 objects are not tested. Please consider using SQLAlchemy.\n",
      "  sup = pd.read_sql_query(sql,conn)\n"
     ]
    }
   ],
   "source": [
    "sql = \"SELECT * FROM supplier\"\n",
    "sup = pd.read_sql_query(sql,conn)\n",
    "print(pd.DataFrame.head(sup))"
   ]
  },
  {
   "cell_type": "code",
   "execution_count": 24,
   "metadata": {},
   "outputs": [
    {
     "name": "stdout",
     "output_type": "stream",
     "text": [
      "    supplier_number duns_number duns_suffix     comm_id  \\\n",
      "0           1771394   461914971        None        None   \n",
      "1           1771394   461914971        None        None   \n",
      "2           2583056   173555942      1703          None   \n",
      "3           2583056   173555942      1703          None   \n",
      "4           3081290   750221378      8811          None   \n",
      "5           3081290   750221378      8811          None   \n",
      "6           3553315   267997551        None  6506006728   \n",
      "7           3553315   267997551        None  6506006728   \n",
      "8           3621436   236548991      2938    1774905452   \n",
      "9           3621436   236548991      2938    1774905452   \n",
      "10          3629745   237277485      1104    6787978971   \n",
      "11          3629745   237277485      1104    6787978971   \n",
      "12          4076834   284310226      8085          None   \n",
      "13          4076834   284310226      8085          None   \n",
      "14          4977635   275159475        None  5824874859   \n",
      "15          4977635   275159475        None  5824874859   \n",
      "16          5963353   408392445        None  2479313606   \n",
      "17          5963353   408392445        None  2479313606   \n",
      "18          7214282   852075278      8831          None   \n",
      "19          7214282   852075278      8831          None   \n",
      "20          7268518   946279556      5534    1686057555   \n",
      "21          7268518   946279556      5534    1686057555   \n",
      "22          7575748   609379264      1419          None   \n",
      "23          7575748   609379264      1419          None   \n",
      "24          8240938   487357580      8215    4427970565   \n",
      "25          8240938   487357580      8215    4427970565   \n",
      "26          8496946   821685505      3233          None   \n",
      "27          8496946   821685505      3233          None   \n",
      "28          8537770   290592585      3699    3034830500   \n",
      "29          8537770   290592585      3699    3034830500   \n",
      "30          8709578   636331706        None        None   \n",
      "31          8709578   636331706        None        None   \n",
      "32          8906380   276238313      7392          None   \n",
      "33          8906380   276238313      7392          None   \n",
      "34          9068305   707778798        None  2592292810   \n",
      "35          9068305   707778798        None  2592292810   \n",
      "36          9179773   644476205        None        None   \n",
      "37          9179773   644476205        None        None   \n",
      "38          9362174   602442000      4339          None   \n",
      "39          9362174   602442000      4339          None   \n",
      "40          9506060   972438860      3738          None   \n",
      "41          9506060   972438860      3738          None   \n",
      "42          9977650   238552193      3844    7982175496   \n",
      "43          9977650   238552193      3844    7982175496   \n",
      "\n",
      "                      name account_number  division_number    custom_2  \n",
      "0              Fresh Finds     A1771394                 41        None  \n",
      "1              Fresh Finds     A1771394                 34        None  \n",
      "2          Gourmet Goodies     Z2583056                 41  8002641297  \n",
      "3          Gourmet Goodies     Z2583056                 34  8002641297  \n",
      "4         Flavorful Feasts     U3081290                 41        None  \n",
      "5         Flavorful Feasts     U3081290                 34        None  \n",
      "6        Wholesome Wonders     A3553315                 41  9166388825  \n",
      "7        Wholesome Wonders     A3553315                 34  9166388825  \n",
      "8        Quality Quenchers     F3621436                 41        None  \n",
      "9        Quality Quenchers     F3621436                 34        None  \n",
      "10            Farm to Fork     F3629745                 41        None  \n",
      "11            Farm to Fork     F3629745                 34        None  \n",
      "12             Fizz Fusion     Z4076834                 41        None  \n",
      "13             Fizz Fusion     Z4076834                 34        None  \n",
      "14       Refreshing Elixir     A4977635                 41        None  \n",
      "15      Resfreshing Elixir     A4977635                 34        None  \n",
      "16         Modern Mixology     F5963353                 41        None  \n",
      "17         Modern Mixology     F5963353                 34        None  \n",
      "18     Tantalizing Tipples     Z7214282                 41        None  \n",
      "19     Tantalizing Tipples     Z7214282                 34        None  \n",
      "20        Elegant Espresso     U7268518                 41        None  \n",
      "21        Elegant Espresso     U7268518                 34        None  \n",
      "22     Crunchy Confections     U7575748                 41        None  \n",
      "23     Crunchy Confections     U7575748                 34        None  \n",
      "24      Delicious Delights     F8240938                 41        None  \n",
      "25      Delicious Delights     F8240938                 34        None  \n",
      "26            Chic Candles     U8496946                 41        None  \n",
      "27            Chic Candles     U8496946                 34        None  \n",
      "28        Upscale Utensils     F8537770                 41        None  \n",
      "29        Upscale Utensils     F8537770                 34        None  \n",
      "30  Sophisticated Stemware     Z8709578                 41        None  \n",
      "31  Sophisticated Stemware     Z8709578                 34        None  \n",
      "32            Quality Cuts     U8906380                 41        None  \n",
      "33            Quality Cuts     U8906380                 34        None  \n",
      "34       Scrumptious Bites     A9068305                 41        None  \n",
      "35        Scumptious Bites     A9068305                 34        None  \n",
      "36           The Bread Box     A9179773                 41        None  \n",
      "37           The Bread Box     A9179773                 34        None  \n",
      "38       Toasted Treasures     Z9362174                 41        None  \n",
      "39       Toasted Treasures     Z9362174                 34        None  \n",
      "40           Fresh Foliage     U9506060                 41        None  \n",
      "41           Fresh Foliage     U9506060                 34        None  \n",
      "42        Elegant Editions     F9977650                 41        None  \n",
      "43        Elegant Editions     F9977650                 34        None  \n"
     ]
    }
   ],
   "source": [
    "sup = sup.drop(['dsd', 'facility'], axis=1)\n",
    "print(sup)"
   ]
  }
 ],
 "metadata": {
  "kernelspec": {
   "display_name": "dsdrcv",
   "language": "python",
   "name": "python3"
  },
  "language_info": {
   "codemirror_mode": {
    "name": "ipython",
    "version": 3
   },
   "file_extension": ".py",
   "mimetype": "text/x-python",
   "name": "python",
   "nbconvert_exporter": "python",
   "pygments_lexer": "ipython3",
   "version": "3.11.2"
  },
  "orig_nbformat": 4
 },
 "nbformat": 4,
 "nbformat_minor": 2
}
