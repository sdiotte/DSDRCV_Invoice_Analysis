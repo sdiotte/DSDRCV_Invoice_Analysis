{
 "cells": [
  {
   "cell_type": "code",
   "execution_count": 3,
   "metadata": {},
   "outputs": [
    {
     "name": "stdout",
     "output_type": "stream",
     "text": [
      "Connection established to:  ('PostgreSQL 15.3, compiled by Visual C++ build 1914, 64-bit',)\n"
     ]
    }
   ],
   "source": [
    "%run DSDRCV_Connection.ipynb"
   ]
  },
  {
   "cell_type": "code",
   "execution_count": 6,
   "metadata": {},
   "outputs": [
    {
     "name": "stdout",
     "output_type": "stream",
     "text": [
      "   supplier_number duns_number duns_suffix comm_id              name   dsd  \\\n",
      "0          1771394   461914971        None    None       Fresh Finds  None   \n",
      "1          1771394   461914971        None    None       Fresh Finds  None   \n",
      "2          2583056   173555942      1703      None   Gourmet Goodies  None   \n",
      "3          2583056   173555942      1703      None   Gourmet Goodies  None   \n",
      "4          3081290   750221378      8811      None  Flavorful Feasts  None   \n",
      "\n",
      "  facility account_number  division_number    custom_2  \n",
      "0     None     A1771394                 41        None  \n",
      "1     None     A1771394                 34        None  \n",
      "2     None     Z2583056                 41  8002641297  \n",
      "3     None     Z2583056                 34  8002641297  \n",
      "4     None     U3081290                 41        None  \n"
     ]
    },
    {
     "name": "stderr",
     "output_type": "stream",
     "text": [
      "C:\\Users\\sd18186\\AppData\\Local\\Temp\\ipykernel_8372\\1752164420.py:2: UserWarning: pandas only supports SQLAlchemy connectable (engine/connection) or database string URI or sqlite3 DBAPI2 connection. Other DBAPI2 objects are not tested. Please consider using SQLAlchemy.\n",
      "  sup = pd.read_sql_query(sql,conn)\n"
     ]
    }
   ],
   "source": [
    "sql = \"SELECT * FROM supplier\"\n",
    "sup = pd.read_sql_query(sql,conn)\n",
    "print(pd.DataFrame.head(sup))"
   ]
  },
  {
   "cell_type": "code",
   "execution_count": null,
   "metadata": {},
   "outputs": [],
   "source": []
  }
 ],
 "metadata": {
  "kernelspec": {
   "display_name": "dsdrcv",
   "language": "python",
   "name": "python3"
  },
  "language_info": {
   "codemirror_mode": {
    "name": "ipython",
    "version": 3
   },
   "file_extension": ".py",
   "mimetype": "text/x-python",
   "name": "python",
   "nbconvert_exporter": "python",
   "pygments_lexer": "ipython3",
   "version": "3.11.2"
  },
  "orig_nbformat": 4
 },
 "nbformat": 4,
 "nbformat_minor": 2
}
