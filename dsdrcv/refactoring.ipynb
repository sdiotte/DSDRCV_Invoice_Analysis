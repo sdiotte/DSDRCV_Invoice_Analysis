{
 "cells": [
  {
   "cell_type": "code",
   "execution_count": null,
   "metadata": {},
   "outputs": [],
   "source": [
    "import pandas as pd\n",
    "import sqlite3\n",
    "\n",
    "# Establish a connection to your database\n",
    "conn = sqlite3.connect('your_database.db')\n",
    "\n",
    "# Define SQL queries for each table\n",
    "sql_table1 = \"SELECT * FROM table1\"\n",
    "sql_table2 = \"SELECT * FROM table2\"\n",
    "sql_table3 = \"SELECT * FROM table3\"\n",
    "\n",
    "# Read data from each table into separate DataFrames\n",
    "df_table1 = pd.read_sql_query(sql_table1, conn)\n",
    "df_table2 = pd.read_sql_query(sql_table2, conn)\n",
    "df_table3 = pd.read_sql_query(sql_table3, conn)\n",
    "\n",
    "# Print the head of each DataFrame\n",
    "print(\"Table 1:\")\n",
    "print(df_table1.head())\n",
    "\n",
    "print(\"Table 2:\")\n",
    "print(df_table2.head())\n",
    "\n",
    "print(\"Table 3:\")\n",
    "print(df_table3.head())\n",
    "\n",
    "# Close the database connection\n",
    "conn.close()"
   ]
  },
  {
   "cell_type": "code",
   "execution_count": null,
   "metadata": {},
   "outputs": [],
   "source": [
    "import pandas as pd\n",
    "\n",
    "# Assuming 'inv_hd1', 'inv_hd2', 'inv_hd3' are your DataFrames\n",
    "\n",
    "# Create a list of DataFrames\n",
    "dataframes = [inv_hd1, inv_hd2, inv_hd3]\n",
    "\n",
    "# Apply the operations on each DataFrame in the list\n",
    "for df in dataframes:\n",
    "    df = df.where(pd.notna(df), None)\n",
    "    df = df.dropna(axis=1, how='all')\n",
    "    print(df)"
   ]
  }
 ],
 "metadata": {
  "language_info": {
   "name": "python"
  },
  "orig_nbformat": 4
 },
 "nbformat": 4,
 "nbformat_minor": 2
}
