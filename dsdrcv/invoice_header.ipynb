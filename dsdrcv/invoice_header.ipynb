{
 "cells": [
  {
   "cell_type": "code",
   "execution_count": 1,
   "metadata": {},
   "outputs": [
    {
     "name": "stdout",
     "output_type": "stream",
     "text": [
      "Connection established to:  ('PostgreSQL 15.3, compiled by Visual C++ build 1914, 64-bit',)\n"
     ]
    }
   ],
   "source": [
    "%run DSDRCV_Connection.ipynb"
   ]
  },
  {
   "cell_type": "code",
   "execution_count": 2,
   "metadata": {},
   "outputs": [
    {
     "name": "stdout",
     "output_type": "stream",
     "text": [
      "   store_id  invoice_id  shipment_id  supplier_number          invoice_number  \\\n",
      "0    410087         170          170          1771394  121590806841440          \n",
      "1    410085         256          256          9179773  797761846933028          \n",
      "2    410088         257          257          9179773  794268529783944          \n",
      "3    340028         275          275          4977635  974786101227895          \n",
      "4    410055         276          276          4977635  459915081072217          \n",
      "\n",
      "   return_invoice  status  method    dsd    cod  ... final_total_recv_tax_1  \\\n",
      "0           False       2       2   True  False  ...                   None   \n",
      "1           False       2       5  False  False  ...                   None   \n",
      "2           False       2       5  False  False  ...                   None   \n",
      "3           False       2       5   True  False  ...                   None   \n",
      "4           False       2       5   True  False  ...                   None   \n",
      "\n",
      "  final_total_recv_tax_2  final_total_recv_tax_3 final_total_recv_tax_4  \\\n",
      "0                   None                    None                   None   \n",
      "1                   None                    None                   None   \n",
      "2                   None                    None                   None   \n",
      "3                   None                    None                   None   \n",
      "4                   None                    None                   None   \n",
      "\n",
      "  final_total_net final_total_retail num_line_items  \\\n",
      "0         1170.00           19900.00              1   \n",
      "1           14.84              21.96              2   \n",
      "2          725.37            9789.68             40   \n",
      "3          119.95             155.88              1   \n",
      "4         3833.05           10212.60             30   \n",
      "\n",
      "            upload_timestamp  i_audit  final_total_ext_deposit  \n",
      "0  2023-02-10 22:49:13-05:00    False                      0.0  \n",
      "1  2023-03-10 15:09:59-05:00    False                      0.0  \n",
      "2  2023-03-10 04:15:29-05:00    False                      0.0  \n",
      "3  2023-02-10 06:02:47-05:00    False                      0.0  \n",
      "4  2023-02-10 17:18:36-05:00    False                      0.0  \n",
      "\n",
      "[5 rows x 40 columns]\n"
     ]
    },
    {
     "name": "stderr",
     "output_type": "stream",
     "text": [
      "C:\\Users\\sd18186\\AppData\\Local\\Temp\\ipykernel_24332\\369308497.py:2: UserWarning: pandas only supports SQLAlchemy connectable (engine/connection) or database string URI or sqlite3 DBAPI2 connection. Other DBAPI2 objects are not tested. Please consider using SQLAlchemy.\n",
      "  inv_hd = pd.read_sql_query(sql,conn)\n"
     ]
    }
   ],
   "source": [
    "sql = \"SELECT * FROM invoice_header\"\n",
    "inv_hd = pd.read_sql_query(sql,conn)\n",
    "print(pd.DataFrame.head(inv_hd))"
   ]
  }
 ],
 "metadata": {
  "kernelspec": {
   "display_name": "dsdrcv",
   "language": "python",
   "name": "python3"
  },
  "language_info": {
   "codemirror_mode": {
    "name": "ipython",
    "version": 3
   },
   "file_extension": ".py",
   "mimetype": "text/x-python",
   "name": "python",
   "nbconvert_exporter": "python",
   "pygments_lexer": "ipython3",
   "version": "3.11.2"
  },
  "orig_nbformat": 4
 },
 "nbformat": 4,
 "nbformat_minor": 2
}
