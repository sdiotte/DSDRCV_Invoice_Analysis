{
 "cells": [
  {
   "cell_type": "code",
   "execution_count": 10,
   "metadata": {},
   "outputs": [
    {
     "name": "stdout",
     "output_type": "stream",
     "text": [
      "Connection established to:  ('PostgreSQL 15.3, compiled by Visual C++ build 1914, 64-bit',)\n"
     ]
    }
   ],
   "source": [
    "%run DSDRCV_Connection.ipynb"
   ]
  },
  {
   "cell_type": "code",
   "execution_count": 11,
   "metadata": {},
   "outputs": [
    {
     "name": "stdout",
     "output_type": "stream",
     "text": [
      "   store_id  invoice_id  shipment_id  supplier_number          invoice_number  \\\n",
      "0    410087         170          170          1771394  121590806841440          \n",
      "1    410085         256          256          9179773  797761846933028          \n",
      "2    410088         257          257          9179773  794268529783944          \n",
      "3    340028         275          275          4977635  974786101227895          \n",
      "4    410055         276          276          4977635  459915081072217          \n",
      "\n",
      "   return_invoice  status  method    dsd    cod  ... final_total_recv_tax_1  \\\n",
      "0           False       2       2   True  False  ...                   None   \n",
      "1           False       2       5  False  False  ...                   None   \n",
      "2           False       2       5  False  False  ...                   None   \n",
      "3           False       2       5   True  False  ...                   None   \n",
      "4           False       2       5   True  False  ...                   None   \n",
      "\n",
      "  final_total_recv_tax_2  final_total_recv_tax_3 final_total_recv_tax_4  \\\n",
      "0                   None                    None                   None   \n",
      "1                   None                    None                   None   \n",
      "2                   None                    None                   None   \n",
      "3                   None                    None                   None   \n",
      "4                   None                    None                   None   \n",
      "\n",
      "  final_total_net final_total_retail num_line_items  \\\n",
      "0         1170.00           19900.00              1   \n",
      "1           14.84              21.96              2   \n",
      "2          725.37            9789.68             40   \n",
      "3          119.95             155.88              1   \n",
      "4         3833.05           10212.60             30   \n",
      "\n",
      "            upload_timestamp  i_audit  final_total_ext_deposit  \n",
      "0  2023-02-10 22:49:13-05:00    False                      0.0  \n",
      "1  2023-03-10 15:09:59-05:00    False                      0.0  \n",
      "2  2023-03-10 04:15:29-05:00    False                      0.0  \n",
      "3  2023-02-10 06:02:47-05:00    False                      0.0  \n",
      "4  2023-02-10 17:18:36-05:00    False                      0.0  \n",
      "\n",
      "[5 rows x 40 columns]\n"
     ]
    },
    {
     "name": "stderr",
     "output_type": "stream",
     "text": [
      "C:\\Users\\sd18186\\AppData\\Local\\Temp\\ipykernel_15424\\369308497.py:2: UserWarning: pandas only supports SQLAlchemy connectable (engine/connection) or database string URI or sqlite3 DBAPI2 connection. Other DBAPI2 objects are not tested. Please consider using SQLAlchemy.\n",
      "  inv_hd = pd.read_sql_query(sql,conn)\n"
     ]
    }
   ],
   "source": [
    "sql = \"SELECT * FROM invoice_header\"\n",
    "inv_hd = pd.read_sql_query(sql,conn)\n",
    "print(pd.DataFrame.head(inv_hd))"
   ]
  },
  {
   "cell_type": "code",
   "execution_count": 12,
   "metadata": {},
   "outputs": [
    {
     "name": "stdout",
     "output_type": "stream",
     "text": [
      "      store_id  invoice_id  shipment_id  supplier_number  \\\n",
      "0       410087         170          170          1771394   \n",
      "1       410085         256          256          9179773   \n",
      "2       410088         257          257          9179773   \n",
      "3       340028         275          275          4977635   \n",
      "4       410055         276          276          4977635   \n",
      "...        ...         ...          ...              ...   \n",
      "1507    410067         446          446          9179773   \n",
      "1508    340048         447          447          9179773   \n",
      "1509    410062         714          714          9179773   \n",
      "1510    340014         715          715          9179773   \n",
      "1511    340033         583          583          9179773   \n",
      "\n",
      "              invoice_number  return_invoice  status  method    dsd    cod  \\\n",
      "0     121590806841440                  False       2       2   True  False   \n",
      "1     797761846933028                  False       2       5  False  False   \n",
      "2     794268529783944                  False       2       5  False  False   \n",
      "3     974786101227895                  False       2       5   True  False   \n",
      "4     459915081072217                  False       2       5   True  False   \n",
      "...                      ...             ...     ...     ...    ...    ...   \n",
      "1507  9018058208805                    False       2       5  False  False   \n",
      "1508  9184093653724                    False       2       5  False  False   \n",
      "1509  5456007914186                    False       2       5  False  False   \n",
      "1510  3938098438552                    False       2       5  False  False   \n",
      "1511  6316365448290                    False       2       5  False  False   \n",
      "\n",
      "      ... base_total_net final_total_qty  final_misc_charge  \\\n",
      "0     ...         100.00           100.0                0.0   \n",
      "1     ...          14.69             4.0                0.0   \n",
      "2     ...         718.12           158.0                0.0   \n",
      "3     ...         119.95            12.0                0.0   \n",
      "4     ...        -295.90           198.0                0.0   \n",
      "...   ...            ...             ...                ...   \n",
      "1507  ...        1092.81            95.0                0.0   \n",
      "1508  ...        1254.20           291.0                0.0   \n",
      "1509  ...         231.36            51.0                0.0   \n",
      "1510  ...         374.41           115.0                0.0   \n",
      "1511  ...         535.51            42.0                0.0   \n",
      "\n",
      "     final_misc_allowance final_total_net final_total_retail num_line_items  \\\n",
      "0                     0.0         1170.00           19900.00              1   \n",
      "1                     0.0           14.84              21.96              2   \n",
      "2                     0.0          725.37            9789.68             40   \n",
      "3                     0.0          119.95             155.88              1   \n",
      "4                     0.0         3833.05           10212.60             30   \n",
      "...                   ...             ...                ...            ...   \n",
      "1507                  0.0         1103.85            1566.33             30   \n",
      "1508                  0.0         1263.58            1803.35             54   \n",
      "1509                  0.0          233.70             366.93             15   \n",
      "1510                  0.0          377.17             573.89             27   \n",
      "1511                  0.0          540.92             772.00              8   \n",
      "\n",
      "               upload_timestamp  i_audit  final_total_ext_deposit  \n",
      "0     2023-02-10 22:49:13-05:00    False                      0.0  \n",
      "1     2023-03-10 15:09:59-05:00    False                      0.0  \n",
      "2     2023-03-10 04:15:29-05:00    False                      0.0  \n",
      "3     2023-02-10 06:02:47-05:00    False                      0.0  \n",
      "4     2023-02-10 17:18:36-05:00    False                      0.0  \n",
      "...                         ...      ...                      ...  \n",
      "1507  2023-03-04 07:03:56-05:00    False                      0.0  \n",
      "1508  2023-03-04 19:50:49-05:00    False                      0.0  \n",
      "1509  2023-03-04 19:43:37-05:00    False                      0.0  \n",
      "1510  2023-03-04 20:56:16-05:00    False                      0.0  \n",
      "1511  2023-03-04 01:26:36-05:00    False                      0.0  \n",
      "\n",
      "[1512 rows x 32 columns]\n"
     ]
    }
   ],
   "source": [
    "inv_hd = inv_hd.where(pd.notna(inv_hd), None)\n",
    "inv_hd = inv_hd.dropna(axis=1, how='all')\n",
    "print(inv_hd)"
   ]
  },
  {
   "cell_type": "code",
   "execution_count": 13,
   "metadata": {},
   "outputs": [
    {
     "name": "stdout",
     "output_type": "stream",
     "text": [
      "      store_id  invoice_id  supplier_number          invoice_number  \\\n",
      "0       410087         170          1771394  121590806841440          \n",
      "1       410085         256          9179773  797761846933028          \n",
      "2       410088         257          9179773  794268529783944          \n",
      "3       340028         275          4977635  974786101227895          \n",
      "4       410055         276          4977635  459915081072217          \n",
      "...        ...         ...              ...                     ...   \n",
      "1507    410067         446          9179773  9018058208805            \n",
      "1508    340048         447          9179773  9184093653724            \n",
      "1509    410062         714          9179773  5456007914186            \n",
      "1510    340014         715          9179773  3938098438552            \n",
      "1511    340033         583          9179773  6316365448290            \n",
      "\n",
      "      return_invoice  status  method    cod     user_id  \\\n",
      "0              False       2       2  False  76013        \n",
      "1              False       2       5  False        None   \n",
      "2              False       2       5  False        None   \n",
      "3              False       2       5  False  23098        \n",
      "4              False       2       5  False  66734        \n",
      "...              ...     ...     ...    ...         ...   \n",
      "1507           False       2       5  False        None   \n",
      "1508           False       2       5  False        None   \n",
      "1509           False       2       5  False        None   \n",
      "1510           False       2       5  False        None   \n",
      "1511           False       2       5  False        None   \n",
      "\n",
      "          external_po_number  ...  flags base_total_qty base_total_net  \\\n",
      "0     NULL                    ...  12289          100.0         100.00   \n",
      "1     NULL                    ...  12289            4.0          14.69   \n",
      "2     NULL                    ...  12289          158.0         718.12   \n",
      "3     NULL                    ...  12288            1.0         119.95   \n",
      "4     NULL                    ...  12288            1.0        -295.90   \n",
      "...                      ...  ...    ...            ...            ...   \n",
      "1507  NULL                    ...  12289           95.0        1092.81   \n",
      "1508  NULL                    ...  12289          291.0        1254.20   \n",
      "1509  NULL                    ...  12289           51.0         231.36   \n",
      "1510  NULL                    ...  12289          115.0         374.41   \n",
      "1511  NULL                    ...  12289           42.0         535.51   \n",
      "\n",
      "     final_total_qty final_misc_charge  final_misc_allowance  final_total_net  \\\n",
      "0              100.0               0.0                   0.0          1170.00   \n",
      "1                4.0               0.0                   0.0            14.84   \n",
      "2              158.0               0.0                   0.0           725.37   \n",
      "3               12.0               0.0                   0.0           119.95   \n",
      "4              198.0               0.0                   0.0          3833.05   \n",
      "...              ...               ...                   ...              ...   \n",
      "1507            95.0               0.0                   0.0          1103.85   \n",
      "1508           291.0               0.0                   0.0          1263.58   \n",
      "1509            51.0               0.0                   0.0           233.70   \n",
      "1510           115.0               0.0                   0.0           377.17   \n",
      "1511            42.0               0.0                   0.0           540.92   \n",
      "\n",
      "      final_total_retail  num_line_items  i_audit  \n",
      "0               19900.00               1    False  \n",
      "1                  21.96               2    False  \n",
      "2                9789.68              40    False  \n",
      "3                 155.88               1    False  \n",
      "4               10212.60              30    False  \n",
      "...                  ...             ...      ...  \n",
      "1507             1566.33              30    False  \n",
      "1508             1803.35              54    False  \n",
      "1509              366.93              15    False  \n",
      "1510              573.89              27    False  \n",
      "1511              772.00               8    False  \n",
      "\n",
      "[1512 rows x 25 columns]\n"
     ]
    }
   ],
   "source": [
    "#Dropping unnecessary columns from the inv_line dataframe\n",
    "inv_hd = inv_hd.drop(['dsd','final_total_ext_deposit', 'base_misc_charge', 'base_misc_allowance', 'base_total_deposit', 'shipment_id', 'upload_timestamp'], axis=1)\n",
    "print(inv_hd)"
   ]
  },
  {
   "cell_type": "code",
   "execution_count": 14,
   "metadata": {},
   "outputs": [
    {
     "data": {
      "text/plain": [
       "['store_id',\n",
       " 'invoice_id',\n",
       " 'supplier_number',\n",
       " 'invoice_number',\n",
       " 'return_invoice',\n",
       " 'status',\n",
       " 'method',\n",
       " 'cod',\n",
       " 'user_id',\n",
       " 'external_po_number',\n",
       " 'major_dept_number',\n",
       " 'invoice_date',\n",
       " 'delivery_timestamp',\n",
       " 'check_in_timestamp',\n",
       " 'final_timestamp',\n",
       " 'flags',\n",
       " 'base_total_qty',\n",
       " 'base_total_net',\n",
       " 'final_total_qty',\n",
       " 'final_misc_charge',\n",
       " 'final_misc_allowance',\n",
       " 'final_total_net',\n",
       " 'final_total_retail',\n",
       " 'num_line_items',\n",
       " 'i_audit']"
      ]
     },
     "execution_count": 14,
     "metadata": {},
     "output_type": "execute_result"
    }
   ],
   "source": [
    "# Listing the remaining inv_line columns for review\n",
    "list(inv_hd)"
   ]
  },
  {
   "cell_type": "code",
   "execution_count": null,
   "metadata": {},
   "outputs": [],
   "source": [
    "# Creating a csv file of the remaining data to import into invoice_summary module for merging\n",
    "inv_hd.to_csv('inv_hd.csv', index=False)"
   ]
  }
 ],
 "metadata": {
  "kernelspec": {
   "display_name": "dsdrcv",
   "language": "python",
   "name": "python3"
  },
  "language_info": {
   "codemirror_mode": {
    "name": "ipython",
    "version": 3
   },
   "file_extension": ".py",
   "mimetype": "text/x-python",
   "name": "python",
   "nbconvert_exporter": "python",
   "pygments_lexer": "ipython3",
   "version": "3.11.2"
  },
  "orig_nbformat": 4
 },
 "nbformat": 4,
 "nbformat_minor": 2
}
