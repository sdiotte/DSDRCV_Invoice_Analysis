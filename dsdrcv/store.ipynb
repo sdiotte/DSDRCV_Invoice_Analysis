{
 "cells": [
  {
   "cell_type": "code",
   "execution_count": 28,
   "metadata": {},
   "outputs": [
    {
     "name": "stdout",
     "output_type": "stream",
     "text": [
      "Connection established to:  ('PostgreSQL 15.3, compiled by Visual C++ build 1914, 64-bit',)\n"
     ]
    }
   ],
   "source": [
    "%run DSDRCV_Connection.ipynb"
   ]
  },
  {
   "cell_type": "code",
   "execution_count": 30,
   "metadata": {},
   "outputs": [
    {
     "name": "stdout",
     "output_type": "stream",
     "text": [
      "   store_id   name      address_line_1 address_line_2        city state  \\\n",
      "0    410051  CI051  900 De La Paix Rue           None  Cincinnati    OH   \n",
      "1    410052  CI052       3161 Birch Dr           None    Erlanger    KY   \n",
      "2    410053  CI053   4241 President Dr           None  Cincinnati    OH   \n",
      "3    410054  CI054    582 Ivy Ridge Dr           None     Newport    KY   \n",
      "4    410055  CI055    909 Surfridge Dr           None      Hebron    KY   \n",
      "\n",
      "  postal_code           phone  \n",
      "0       45220  (513) 751-3324  \n",
      "1       41018  (859) 291-2687  \n",
      "2       45225  (513) 541-2246  \n",
      "3       41076  (513) 528-6568  \n",
      "4       41048  (859) 817-9062  \n"
     ]
    },
    {
     "name": "stderr",
     "output_type": "stream",
     "text": [
      "C:\\Users\\sd18186\\AppData\\Local\\Temp\\ipykernel_23184\\4010891953.py:2: UserWarning: pandas only supports SQLAlchemy connectable (engine/connection) or database string URI or sqlite3 DBAPI2 connection. Other DBAPI2 objects are not tested. Please consider using SQLAlchemy.\n",
      "  store = pd.read_sql_query(sql,conn)\n"
     ]
    }
   ],
   "source": [
    "sql = \"SELECT * FROM store\"\n",
    "store = pd.read_sql_query(sql,conn)\n",
    "print(pd.DataFrame.head(store))\n"
   ]
  }
 ],
 "metadata": {
  "kernelspec": {
   "display_name": "dsdrcv",
   "language": "python",
   "name": "python3"
  },
  "language_info": {
   "codemirror_mode": {
    "name": "ipython",
    "version": 3
   },
   "file_extension": ".py",
   "mimetype": "text/x-python",
   "name": "python",
   "nbconvert_exporter": "python",
   "pygments_lexer": "ipython3",
   "version": "3.11.2"
  },
  "orig_nbformat": 4
 },
 "nbformat": 4,
 "nbformat_minor": 2
}
