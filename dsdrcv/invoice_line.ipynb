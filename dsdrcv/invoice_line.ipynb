{
 "cells": [
  {
   "cell_type": "code",
   "execution_count": 1,
   "metadata": {},
   "outputs": [
    {
     "name": "stdout",
     "output_type": "stream",
     "text": [
      "Connection established to:  ('PostgreSQL 15.3, compiled by Visual C++ build 1914, 64-bit',)\n"
     ]
    }
   ],
   "source": [
    "%run DSDRCV_Connection.ipynb"
   ]
  },
  {
   "cell_type": "code",
   "execution_count": 2,
   "metadata": {},
   "outputs": [
    {
     "name": "stderr",
     "output_type": "stream",
     "text": [
      "C:\\Users\\sd18186\\AppData\\Local\\Temp\\ipykernel_20776\\4105020707.py:2: UserWarning: pandas only supports SQLAlchemy connectable (engine/connection) or database string URI or sqlite3 DBAPI2 connection. Other DBAPI2 objects are not tested. Please consider using SQLAlchemy.\n",
      "  inv_line = pd.read_sql_query(sql,conn)\n"
     ]
    },
    {
     "name": "stdout",
     "output_type": "stream",
     "text": [
      "   store_id  invoice_id  line_number  container_id po_number     sku_number  \\\n",
      "0    340005         170            1           NaN      None  9881155442438   \n",
      "1    340024         256            1           NaN      None  7904555584739   \n",
      "2    340024         256            2           NaN      None  4653609369867   \n",
      "3    340007         257            1           NaN      None  6428855040557   \n",
      "4    340007         257            2           NaN      None  3523821409384   \n",
      "\n",
      "      upc_number  exception  flags  inventory_units  ...  ext_recv_tax_3  \\\n",
      "0  9881155442438          0  257.0              1.0  ...            None   \n",
      "1  7904555584739          0   36.0              1.0  ...            None   \n",
      "2  4653609369867        256   36.0              1.0  ...            None   \n",
      "3  6428855040557          0   36.0              1.0  ...            None   \n",
      "4  3523821409384          0   36.0              1.0  ...            None   \n",
      "\n",
      "   ext_recv_tax_4 billing_price billing_price_mult  billing_major_dept  \\\n",
      "0            None         19.90                1.0               101.0   \n",
      "1            None          5.99                1.0              1056.0   \n",
      "2            None          4.99                1.0              1056.0   \n",
      "3            None          3.99                1.0               719.0   \n",
      "4            None          3.99                1.0               719.0   \n",
      "\n",
      "   billing_dept_number  item_type  store_cost  store_allowance  edi_flags  \n",
      "0                  5.0        1.0       11.70              0.0          0  \n",
      "1                 56.0        1.0        3.72              0.0          0  \n",
      "2                 56.0        1.0        3.95              0.0          0  \n",
      "3                 57.0        1.0        3.85              0.0          0  \n",
      "4                 19.0        1.0        3.70              0.0          0  \n",
      "\n",
      "[5 rows x 34 columns]\n"
     ]
    }
   ],
   "source": [
    "sql = \"SELECT * FROM invoice_line\"\n",
    "inv_line = pd.read_sql_query(sql,conn)\n",
    "print(pd.DataFrame.head(inv_line))"
   ]
  }
 ],
 "metadata": {
  "kernelspec": {
   "display_name": "dsdrcv",
   "language": "python",
   "name": "python3"
  },
  "language_info": {
   "codemirror_mode": {
    "name": "ipython",
    "version": 3
   },
   "file_extension": ".py",
   "mimetype": "text/x-python",
   "name": "python",
   "nbconvert_exporter": "python",
   "pygments_lexer": "ipython3",
   "version": "3.11.2"
  },
  "orig_nbformat": 4
 },
 "nbformat": 4,
 "nbformat_minor": 2
}
