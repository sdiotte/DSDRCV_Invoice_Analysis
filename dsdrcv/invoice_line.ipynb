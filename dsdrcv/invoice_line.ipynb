{
 "cells": [
  {
   "cell_type": "code",
   "execution_count": 1,
   "metadata": {},
   "outputs": [
    {
     "name": "stdout",
     "output_type": "stream",
     "text": [
      "Connection established to:  ('PostgreSQL 15.3, compiled by Visual C++ build 1914, 64-bit',)\n"
     ]
    }
   ],
   "source": [
    "%run DSDRCV_Connection.ipynb"
   ]
  },
  {
   "cell_type": "code",
   "execution_count": 2,
   "metadata": {},
   "outputs": [
    {
     "name": "stderr",
     "output_type": "stream",
     "text": [
      "C:\\Users\\sd18186\\AppData\\Local\\Temp\\ipykernel_14772\\4105020707.py:2: UserWarning: pandas only supports SQLAlchemy connectable (engine/connection) or database string URI or sqlite3 DBAPI2 connection. Other DBAPI2 objects are not tested. Please consider using SQLAlchemy.\n",
      "  inv_line = pd.read_sql_query(sql,conn)\n"
     ]
    },
    {
     "name": "stdout",
     "output_type": "stream",
     "text": [
      "   store_id  invoice_id  line_number  container_id po_number     sku_number  \\\n",
      "0    340005         170            1           NaN      None  9881155442438   \n",
      "1    340024         256            1           NaN      None  7904555584739   \n",
      "2    340024         256            2           NaN      None  4653609369867   \n",
      "3    340007         257            1           NaN      None  6428855040557   \n",
      "4    340007         257            2           NaN      None  3523821409384   \n",
      "\n",
      "      upc_number  exception  flags  inventory_units  ...  ext_recv_tax_3  \\\n",
      "0  9881155442438          0  257.0              1.0  ...            None   \n",
      "1  7904555584739          0   36.0              1.0  ...            None   \n",
      "2  4653609369867        256   36.0              1.0  ...            None   \n",
      "3  6428855040557          0   36.0              1.0  ...            None   \n",
      "4  3523821409384          0   36.0              1.0  ...            None   \n",
      "\n",
      "   ext_recv_tax_4 billing_price billing_price_mult  billing_major_dept  \\\n",
      "0            None         19.90                1.0               101.0   \n",
      "1            None          5.99                1.0              1056.0   \n",
      "2            None          4.99                1.0              1056.0   \n",
      "3            None          3.99                1.0               719.0   \n",
      "4            None          3.99                1.0               719.0   \n",
      "\n",
      "   billing_dept_number  item_type  store_cost  store_allowance  edi_flags  \n",
      "0                  5.0        1.0       11.70              0.0          0  \n",
      "1                 56.0        1.0        3.72              0.0          0  \n",
      "2                 56.0        1.0        3.95              0.0          0  \n",
      "3                 57.0        1.0        3.85              0.0          0  \n",
      "4                 19.0        1.0        3.70              0.0          0  \n",
      "\n",
      "[5 rows x 34 columns]\n"
     ]
    }
   ],
   "source": [
    "sql = \"SELECT * FROM invoice_line\"\n",
    "inv_line = pd.read_sql_query(sql,conn)\n",
    "print(pd.DataFrame.head(inv_line))"
   ]
  },
  {
   "cell_type": "code",
   "execution_count": 3,
   "metadata": {},
   "outputs": [
    {
     "name": "stdout",
     "output_type": "stream",
     "text": [
      "       store_id  invoice_id  line_number  container_id     sku_number  \\\n",
      "0        340005         170            1           NaN  9881155442438   \n",
      "1        340024         256            1           NaN  7904555584739   \n",
      "2        340024         256            2           NaN  4653609369867   \n",
      "3        340007         257            1           NaN  6428855040557   \n",
      "4        340007         257            2           NaN  3523821409384   \n",
      "...         ...         ...          ...           ...            ...   \n",
      "32114    410073         447            1           NaN   268725022463   \n",
      "32115    410078         447            1           NaN   268725022463   \n",
      "32116    410086         447            1           NaN   268725022463   \n",
      "32117    410087         447            1           NaN   268725022463   \n",
      "32118    410095         447            1           NaN   268725022463   \n",
      "\n",
      "          upc_number  exception  flags  inventory_units  base_qty  ...  \\\n",
      "0      9881155442438          0  257.0              1.0     100.0  ...   \n",
      "1      7904555584739          0   36.0              1.0       2.0  ...   \n",
      "2      4653609369867        256   36.0              1.0       2.0  ...   \n",
      "3      6428855040557          0   36.0              1.0       1.0  ...   \n",
      "4      3523821409384          0   36.0              1.0      10.0  ...   \n",
      "...              ...        ...    ...              ...       ...  ...   \n",
      "32114   268725022463          0  257.0              1.0       1.0  ...   \n",
      "32115   268725022463          0  257.0              1.0       1.0  ...   \n",
      "32116   268725022463          0  257.0              1.0       1.0  ...   \n",
      "32117   268725022463          0  257.0              1.0       1.0  ...   \n",
      "32118   268725022463          0  257.0              1.0       1.0  ...   \n",
      "\n",
      "       deposit deposit_mult billing_price  billing_price_mult  \\\n",
      "0          0.0          0.0         19.90                 1.0   \n",
      "1          0.0          0.0          5.99                 1.0   \n",
      "2          0.0          0.0          4.99                 1.0   \n",
      "3          0.0          0.0          3.99                 1.0   \n",
      "4          0.0          0.0          3.99                 1.0   \n",
      "...        ...          ...           ...                 ...   \n",
      "32114      0.0          0.0         16.99                 1.0   \n",
      "32115      0.0          0.0         16.99                 1.0   \n",
      "32116      0.0          0.0         16.99                 1.0   \n",
      "32117      0.0          0.0         16.99                 1.0   \n",
      "32118      0.0          0.0         16.99                 1.0   \n",
      "\n",
      "       billing_major_dept  billing_dept_number  item_type  store_cost  \\\n",
      "0                   101.0                  5.0        1.0     11.7000   \n",
      "1                  1056.0                 56.0        1.0      3.7200   \n",
      "2                  1056.0                 56.0        1.0      3.9500   \n",
      "3                   719.0                 57.0        1.0      3.8500   \n",
      "4                   719.0                 19.0        1.0      3.7000   \n",
      "...                   ...                  ...        ...         ...   \n",
      "32114               143.0                 14.0        1.0     13.8275   \n",
      "32115               143.0                 14.0        1.0     13.8275   \n",
      "32116               143.0                 14.0        1.0     13.8275   \n",
      "32117               143.0                 14.0        1.0     13.8275   \n",
      "32118               143.0                 14.0        1.0     13.8275   \n",
      "\n",
      "       store_allowance  edi_flags  \n",
      "0                  0.0          0  \n",
      "1                  0.0          0  \n",
      "2                  0.0          0  \n",
      "3                  0.0          0  \n",
      "4                  0.0          0  \n",
      "...                ...        ...  \n",
      "32114              2.0          0  \n",
      "32115              2.0          0  \n",
      "32116              2.0          0  \n",
      "32117              2.0          0  \n",
      "32118              2.0          0  \n",
      "\n",
      "[32119 rows x 29 columns]\n"
     ]
    }
   ],
   "source": [
    "inv_line = inv_line.where(pd.notna(inv_line), None)\n",
    "inv_line = inv_line.dropna(axis=1, how='all')\n",
    "print(inv_line)"
   ]
  },
  {
   "cell_type": "code",
   "execution_count": 4,
   "metadata": {},
   "outputs": [
    {
     "name": "stdout",
     "output_type": "stream",
     "text": [
      "       store_id  invoice_id  line_number  container_id     sku_number  \\\n",
      "0        340005         170            1           NaN  9881155442438   \n",
      "1        340024         256            1           NaN  7904555584739   \n",
      "2        340024         256            2           NaN  4653609369867   \n",
      "3        340007         257            1           NaN  6428855040557   \n",
      "4        340007         257            2           NaN  3523821409384   \n",
      "...         ...         ...          ...           ...            ...   \n",
      "32114    410073         447            1           NaN   268725022463   \n",
      "32115    410078         447            1           NaN   268725022463   \n",
      "32116    410086         447            1           NaN   268725022463   \n",
      "32117    410087         447            1           NaN   268725022463   \n",
      "32118    410095         447            1           NaN   268725022463   \n",
      "\n",
      "       exception  flags  base_qty  final_qty base_um  ... base_cost  \\\n",
      "0              0  257.0     100.0      100.0       C  ...   11.7000   \n",
      "1              0   36.0       2.0        2.0       E  ...    3.7200   \n",
      "2            256   36.0       2.0        2.0       E  ...    3.7000   \n",
      "3              0   36.0       1.0        1.0       E  ...    3.8500   \n",
      "4              0   36.0      10.0       10.0       E  ...    3.7000   \n",
      "...          ...    ...       ...        ...     ...  ...       ...   \n",
      "32114          0  257.0       1.0        1.0       E  ...   13.8275   \n",
      "32115          0  257.0       1.0        1.0       E  ...   13.8275   \n",
      "32116          0  257.0       1.0        1.0       E  ...   13.8275   \n",
      "32117          0  257.0       1.0        1.0       E  ...   13.8275   \n",
      "32118          0  257.0       1.0        1.0       E  ...   13.8275   \n",
      "\n",
      "       final_cost  base_allowance  final_allowance  billing_price  \\\n",
      "0         11.7000             0.0              0.0          19.90   \n",
      "1          3.7200             0.0              0.0           5.99   \n",
      "2          3.7000             0.0              0.0           4.99   \n",
      "3          3.8500             0.0              0.0           3.99   \n",
      "4          3.7000             0.0              0.0           3.99   \n",
      "...           ...             ...              ...            ...   \n",
      "32114     13.8275             2.0              2.0          16.99   \n",
      "32115     13.8275             2.0              2.0          16.99   \n",
      "32116     13.8275             2.0              2.0          16.99   \n",
      "32117     13.8275             2.0              2.0          16.99   \n",
      "32118     13.8275             2.0              2.0          16.99   \n",
      "\n",
      "       billing_price_mult  billing_major_dept  billing_dept_number  \\\n",
      "0                     1.0               101.0                  5.0   \n",
      "1                     1.0              1056.0                 56.0   \n",
      "2                     1.0              1056.0                 56.0   \n",
      "3                     1.0               719.0                 57.0   \n",
      "4                     1.0               719.0                 19.0   \n",
      "...                   ...                 ...                  ...   \n",
      "32114                 1.0               143.0                 14.0   \n",
      "32115                 1.0               143.0                 14.0   \n",
      "32116                 1.0               143.0                 14.0   \n",
      "32117                 1.0               143.0                 14.0   \n",
      "32118                 1.0               143.0                 14.0   \n",
      "\n",
      "       store_cost  store_allowance  \n",
      "0         11.7000              0.0  \n",
      "1          3.7200              0.0  \n",
      "2          3.9500              0.0  \n",
      "3          3.8500              0.0  \n",
      "4          3.7000              0.0  \n",
      "...           ...              ...  \n",
      "32114     13.8275              2.0  \n",
      "32115     13.8275              2.0  \n",
      "32116     13.8275              2.0  \n",
      "32117     13.8275              2.0  \n",
      "32118     13.8275              2.0  \n",
      "\n",
      "[32119 rows x 23 columns]\n"
     ]
    }
   ],
   "source": [
    "inv_line = inv_line.drop(['upc_number','inventory_units', 'deposit', 'deposit_mult', 'item_type', 'edi_flags'], axis=1)\n",
    "print(inv_line)"
   ]
  },
  {
   "cell_type": "code",
   "execution_count": 5,
   "metadata": {},
   "outputs": [
    {
     "data": {
      "text/plain": [
       "['store_id',\n",
       " 'invoice_id',\n",
       " 'line_number',\n",
       " 'container_id',\n",
       " 'sku_number',\n",
       " 'exception',\n",
       " 'flags',\n",
       " 'base_qty',\n",
       " 'final_qty',\n",
       " 'base_um',\n",
       " 'final_um',\n",
       " 'base_pack_qty',\n",
       " 'final_pack_qty',\n",
       " 'base_cost',\n",
       " 'final_cost',\n",
       " 'base_allowance',\n",
       " 'final_allowance',\n",
       " 'billing_price',\n",
       " 'billing_price_mult',\n",
       " 'billing_major_dept',\n",
       " 'billing_dept_number',\n",
       " 'store_cost',\n",
       " 'store_allowance']"
      ]
     },
     "execution_count": 5,
     "metadata": {},
     "output_type": "execute_result"
    }
   ],
   "source": [
    "list(inv_line)"
   ]
  },
  {
   "cell_type": "code",
   "execution_count": 6,
   "metadata": {},
   "outputs": [],
   "source": [
    "inv_line.to_csv('inv_line.csv', index=False)"
   ]
  }
 ],
 "metadata": {
  "kernelspec": {
   "display_name": "dsdrcv",
   "language": "python",
   "name": "python3"
  },
  "language_info": {
   "codemirror_mode": {
    "name": "ipython",
    "version": 3
   },
   "file_extension": ".py",
   "mimetype": "text/x-python",
   "name": "python",
   "nbconvert_exporter": "python",
   "pygments_lexer": "ipython3",
   "version": "3.11.2"
  },
  "orig_nbformat": 4
 },
 "nbformat": 4,
 "nbformat_minor": 2
}
